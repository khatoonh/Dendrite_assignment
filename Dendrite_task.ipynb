{
 "cells": [
  {
   "cell_type": "markdown",
   "id": "1e789f1b",
   "metadata": {},
   "source": [
    "# Dendrite.ai Task"
   ]
  },
  {
   "cell_type": "code",
   "execution_count": 2,
   "id": "c79a0777",
   "metadata": {},
   "outputs": [],
   "source": [
    "## Importing libraries\n",
    "import numpy as np\n",
    "import pandas as pd\n",
    "import matplotlib.pyplot as plt\n",
    "import seaborn as sns\n",
    "import json"
   ]
  },
  {
   "cell_type": "code",
   "execution_count": 3,
   "id": "36846c08",
   "metadata": {},
   "outputs": [
    {
     "name": "stdout",
     "output_type": "stream",
     "text": [
      "{\n",
      "    \"session_name\": \"test\",\n",
      "    \"session_description\": \"test\",\n",
      "    \"design_state_data\": {\n",
      "\n",
      "      \"session_info\" : {\n",
      "        \"project_id\": \"1\",\n",
      "        \"experiment_id\": \"kkkk-11\",\n",
      "        \"dataset\":\"iris_modified.csv\",\n",
      "        \"session_name\": \"test\",\n",
      "        \"session_description\": \"test\"\n",
      "        },\n",
      "\n",
      "      \"target\": {\n",
      "        \"prediction_type\": \"Regression\",\n",
      "        \"target\": \"petal_width\",\n",
      "        \"type\":\"regression\",\n",
      "        \"partitioning\": true\n",
      "      },\n",
      "      \"train\": {\n",
      "        \"policy\": \"Split the dataset\",\n",
      "        \"time_variable\": \"sepal_length\",\n",
      "        \"sampling_method\": \"No sampling(whole data)\",\n",
      "        \"split\": \"Randomly\",\n",
      "        \"k_fold\": false,\n",
      "        \"train_ratio\": 0,\n",
      "        \"random_seed\": 0\n",
      "      },\n",
      "      \"metrics\": {\n",
      "        \"optomize_model_hyperparameters_for\": \"AUC\",\n",
      "        \"optimize_threshold_for\": \"F1 Score\",\n",
      "        \"compute_lift_at\": 0,\n",
      "        \"cost_matrix_gain_for_true_prediction_true_result\": 1,\n",
      "        \"cost_matrix_gain_for_true_prediction_false_result\": 0,\n",
      "        \"cost_matrix_gain_for_false_prediction_true_result\": 0,\n",
      "        \"cost_matrix_gain_for_false_prediction_false_result\": 0\n",
      "      },\n",
      "      \"feature_handling\": {\n",
      "        \"sepal_length\": {\n",
      "          \"feature_name\": \"sepal_length\",\n",
      "          \"is_selected\": true,\n",
      "          \"feature_variable_type\": \"numerical\",\n",
      "          \"feature_details\": {\n",
      "            \"numerical_handling\": \"Keep as regular numerical feature\",\n",
      "            \"rescaling\": \"No rescaling\",\n",
      "            \"make_derived_feats\": false,\n",
      "            \"missing_values\": \"Impute\",\n",
      "            \"impute_with\": \"Average of values\",\n",
      "            \"impute_value\": 0\n",
      "          }\n",
      "        },\n",
      "        \"sepal_width\": {\n",
      "          \"feature_name\": \"sepal_width\",\n",
      "          \"is_selected\": true,\n",
      "          \"feature_variable_type\": \"numerical\",\n",
      "          \"feature_details\": {\n",
      "            \"numerical_handling\": \"Keep as regular numerical feature\",\n",
      "            \"rescaling\": \"No rescaling\",\n",
      "            \"make_derived_feats\": false,\n",
      "            \"missing_values\": \"Impute\",\n",
      "            \"impute_with\": \"custom\",\n",
      "            \"impute_value\": -1\n",
      "          }\n",
      "        },\n",
      "        \"petal_length\": {\n",
      "          \"feature_name\": \"petal_length\",\n",
      "          \"is_selected\": true,\n",
      "          \"feature_variable_type\": \"numerical\",\n",
      "          \"feature_details\": {\n",
      "            \"numerical_handling\": \"Keep as regular numerical feature\",\n",
      "            \"rescaling\": \"No rescaling\",\n",
      "            \"make_derived_feats\": false,\n",
      "            \"missing_values\": \"Impute\",\n",
      "            \"impute_with\": \"Average of values\",\n",
      "            \"impute_value\": 0\n",
      "          }\n",
      "        },\n",
      "        \"petal_width\": {\n",
      "          \"feature_name\": \"petal_width\",\n",
      "          \"is_selected\": true,\n",
      "          \"feature_variable_type\": \"numerical\",\n",
      "          \"feature_details\": {\n",
      "            \"numerical_handling\": \"Keep as regular numerical feature\",\n",
      "            \"rescaling\": \"No rescaling\",\n",
      "            \"make_derived_feats\": false,\n",
      "            \"missing_values\": \"Impute\",\n",
      "            \"impute_with\": \"custom\",\n",
      "            \"impute_value\": -2\n",
      "          }\n",
      "        },\n",
      "        \"species\": {\n",
      "          \"feature_name\": \"species\",\n",
      "          \"is_selected\": true,\n",
      "          \"feature_variable_type\": \"text\",\n",
      "          \"feature_details\": {\n",
      "            \"text_handling\": \"Tokenize and hash\",\n",
      "            \"hash_columns\": 0\n",
      "          }\n",
      "        }\n",
      "      },\n",
      "      \"feature_generation\": {\n",
      "        \"linear_interactions\": [[\"petal_length\", \"sepal_width\"]],\n",
      "        \"linear_scalar_type\": \"robust\",\n",
      "        \"polynomial_interactions\": [\n",
      "          \"petal_length/sepal_width\",\n",
      "          \"petal_width/species\"\n",
      "        ],\n",
      "        \"explicit_pairwise_interactions\": [\n",
      "          \"sepal_width/sepal_length\",\n",
      "          \"petal_width/sepal_length\"\n",
      "        ]\n",
      "      },\n",
      "      \"feature_reduction\": {\n",
      "        \"feature_reduction_method\": \"Tree-based\",\n",
      "        \"num_of_features_to_keep\": \"4\",\n",
      "        \"num_of_trees\": \"5\",\n",
      "        \"depth_of_trees\": \"6\"\n",
      "      },\n",
      "      \"hyperparameters\": {\n",
      "        \"stratergy\": \"Grid Search\",\n",
      "        \"shuffle_grid\": true,\n",
      "        \"random_state\": 1,\n",
      "        \"max_iterations\": 2,\n",
      "        \"max_search_time\": 3,\n",
      "        \"parallelism\": 5,\n",
      "        \"cross_validation_stratergy\": \"Time-based K-fold(with overlap)\",\n",
      "        \"num_of_folds\": 6,\n",
      "        \"split_ratio\": 0,\n",
      "        \"stratified\": true\n",
      "      },\n",
      "      \"weighting_stratergy\": {\n",
      "        \"weighting_stratergy_method\": \"Sample weights\",\n",
      "        \"weighting_stratergy_weight_variable\": \"petal_length\"\n",
      "      },\n",
      "      \"probability_calibration\": {\n",
      "        \"probability_calibration_method\": \"Sigmoid - Platt Scaling\"\n",
      "      },\n",
      "      \"algorithms\": {\n",
      "        \"RandomForestClassifier\": {\n",
      "          \"model_name\": \"Random Forest Classifier\",\n",
      "          \"is_selected\": false,\n",
      "          \"min_trees\": 10,\n",
      "          \"max_trees\": 30,\n",
      "          \"feature_sampling_statergy\": \"Default\",\n",
      "          \"min_depth\": 20,\n",
      "          \"max_depth\": 30,\n",
      "          \"min_samples_per_leaf_min_value\": 5,\n",
      "          \"min_samples_per_leaf_max_value\": 50,\n",
      "          \"parallelism\": 0\n",
      "        },\n",
      "        \"RandomForestRegressor\": {\n",
      "          \"model_name\": \"Random Forest Regressor\",\n",
      "          \"is_selected\": true,\n",
      "          \"min_trees\": 10,\n",
      "          \"max_trees\": 20,\n",
      "          \"feature_sampling_statergy\": \"Default\",\n",
      "          \"min_depth\": 20,\n",
      "          \"max_depth\": 25,\n",
      "          \"min_samples_per_leaf_min_value\": 5,\n",
      "          \"min_samples_per_leaf_max_value\": 10,\n",
      "          \"parallelism\": 0\n",
      "        },\n",
      "        \"GBTClassifier\": {\n",
      "          \"model_name\": \"Gradient Boosted Trees\",\n",
      "          \"is_selected\": false,\n",
      "          \"num_of_BoostingStages\": [67, 89],\n",
      "          \"feature_sampling_statergy\": \"Fixed number\",\n",
      "          \"learningRate\": [],\n",
      "          \"use_deviance\": true,\n",
      "          \"use_exponential\": false,\n",
      "          \"fixed_number\": 22,\n",
      "          \"min_subsample\": 1,\n",
      "          \"max_subsample\": 2,\n",
      "          \"min_stepsize\":0.1,\n",
      "          \"max_stepsize\":0.5, \n",
      "          \"min_iter\":20,\n",
      "          \"max_iter\":40,\n",
      "          \"min_depth\":5,\n",
      "          \"max_depth\":7\n",
      "\n",
      "        },\n",
      "        \"GBTRegressor\": {\n",
      "          \"model_name\": \"Gradient Boosted Trees\",\n",
      "          \"is_selected\": false,\n",
      "          \"num_of_BoostingStages\": [67, 89],\n",
      "          \"feature_sampling_statergy\": \"Fixed number\",\n",
      "          \"use_deviance\": true,\n",
      "          \"use_exponential\": false,\n",
      "          \"fixed_number\": 22,\n",
      "          \"min_subsample\": 1,\n",
      "          \"max_subsample\": 2,\n",
      "          \"min_stepsize\":0.1,\n",
      "          \"max_stepsize\":0.5, \n",
      "          \"min_iter\":20,\n",
      "          \"max_iter\":40,\n",
      "          \"min_depth\":5,\n",
      "          \"max_depth\":7\n",
      "        },\n",
      "        \"LinearRegression\": {\n",
      "          \"model_name\": \"LinearRegression\",\n",
      "          \"is_selected\": false,\n",
      "          \"parallelism\": 2,\n",
      "          \"min_iter\":30,\n",
      "          \"max_iter\":50,\n",
      "          \"min_regparam\":0.5,\n",
      "          \"max_regparam\":0.8,\n",
      "          \"min_elasticnet\":0.5,\n",
      "          \"max_elasticnet\":0.8\n",
      "        },\n",
      "        \"LogisticRegression\": {\n",
      "          \"model_name\": \"LogisticRegression\",\n",
      "          \"is_selected\": false,\n",
      "          \"parallelism\": 2,\n",
      "          \"min_iter\":30,\n",
      "          \"max_iter\":50,\n",
      "          \"min_regparam\":0.5,\n",
      "          \"max_regparam\":0.8,\n",
      "          \"min_elasticnet\":0.5,\n",
      "          \"max_elasticnet\":0.8\n",
      "        },\n",
      "        \"RidgeRegression\": {\n",
      "          \"model_name\": \"RidgeRegression\",\n",
      "          \"is_selected\": false,\n",
      "          \"regularization_term\": \"Specify values to test\",\n",
      "          \"min_iter\":30,\n",
      "          \"max_iter\":50,\n",
      "          \"min_regparam\":0.5,\n",
      "          \"max_regparam\":0.8\n",
      "        },\n",
      "        \"LassoRegression\": {\n",
      "          \"model_name\": \"Lasso Regression\",\n",
      "          \"is_selected\": false,\n",
      "          \"regularization_term\": \"Specify values to test\",\n",
      "          \"min_iter\":30,\n",
      "          \"max_iter\":50,\n",
      "          \"min_regparam\":0.5,\n",
      "          \"max_regparam\":0.8\n",
      "        },\n",
      "        \"ElasticNetRegression\": {\n",
      "          \"model_name\": \"Lasso Regression\",\n",
      "          \"is_selected\": false,\n",
      "          \"regularization_term\": \"Specify values to test\",\n",
      "          \"min_iter\":30,\n",
      "          \"max_iter\":50,\n",
      "          \"min_regparam\":0.5,\n",
      "          \"max_regparam\":0.8,\n",
      "          \"min_elasticnet\":0.5,\n",
      "          \"max_elasticnet\":0.8\n",
      "        },\n",
      "        \"xg_boost\": {\n",
      "          \"model_name\": \"XG Boost\",\n",
      "          \"is_selected\": false,\n",
      "          \"use_gradient_boosted_tree\": true,\n",
      "          \"dart\": true,\n",
      "          \"tree_method\": \"\",\n",
      "          \"random_state\": 0,\n",
      "          \"max_num_of_trees\": 0,\n",
      "          \"early_stopping\": true,\n",
      "          \"early_stopping_rounds\": 2,\n",
      "          \"max_depth_of_tree\": [56, 89], \n",
      "          \"learningRate\": [89, 76],\n",
      "          \"l1_regularization\": [77],\n",
      "          \"l2_regularization\": [78],\n",
      "          \"gamma\": [68],\n",
      "          \"min_child_weight\": [67],\n",
      "          \"sub_sample\": [67],\n",
      "          \"col_sample_by_tree\": [67],\n",
      "          \"replace_missing_values\": false,\n",
      "          \"parallelism\": 0\n",
      "        },\n",
      "        \"DecisionTreeRegressor\": {\n",
      "          \"model_name\": \"Decision Tree\",\n",
      "          \"is_selected\": false,\n",
      "          \"min_depth\":4,\n",
      "          \"max_depth\": 7,\n",
      "          \"use_gini\": false,\n",
      "          \"use_entropy\": true,\n",
      "          \"min_samples_per_leaf\": [12, 6],\n",
      "          \"use_best\": true,\n",
      "          \"use_random\": true\n",
      "        },\n",
      "        \"DecisionTreeClassifier\": {\n",
      "          \"model_name\": \"Decision Tree\",\n",
      "          \"is_selected\": false,\n",
      "          \"min_depth\":4,\n",
      "          \"max_depth\": 7,\n",
      "          \"use_gini\": false,\n",
      "          \"use_entropy\": true,\n",
      "          \"min_samples_per_leaf\": [12, 6],\n",
      "          \"use_best\": true,\n",
      "          \"use_random\": true\n",
      "        },\n",
      "        \"SVM\": {\n",
      "          \"model_name\": \"Support Vector Machine\",\n",
      "          \"is_selected\": false,\n",
      "          \"linear_kernel\": true,\n",
      "          \"rep_kernel\": true,\n",
      "          \"polynomial_kernel\": true,\n",
      "          \"sigmoid_kernel\": true,\n",
      "          \"c_value\": [566, 79],\n",
      "          \"auto\": true,\n",
      "          \"scale\": true,\n",
      "          \"custom_gamma_values\": true,\n",
      "          \"tolerance\": 7,\n",
      "          \"max_iterations\": 7\n",
      "        },\n",
      "        \"SGD\": {\n",
      "          \"model_name\": \"Stochastic Gradient Descent\",\n",
      "          \"is_selected\": false,\n",
      "          \"use_logistics\": true,\n",
      "          \"use_modified_hubber_loss\": false,\n",
      "          \"max_iterations\": false,\n",
      "          \"tolerance\": 56,\n",
      "          \"use_l1_regularization\": \"on\",\n",
      "          \"use_l2_regularization\": \"on\",\n",
      "          \"use_elastic_net_regularization\": true,\n",
      "          \"alpha_value\": [79, 56],\n",
      "          \"parallelism\": 1\n",
      "        },\n",
      "        \"KNN\": {\n",
      "          \"model_name\": \"KNN\",\n",
      "          \"is_selected\": false,\n",
      "          \"k_value\": [78],\n",
      "          \"distance_weighting\": true,\n",
      "          \"neighbour_finding_algorithm\": \"Automatic\",\n",
      "          \"random_state\": 0,\n",
      "          \"p_value\": 0\n",
      "        },\n",
      "        \"extra_random_trees\": {\n",
      "          \"model_name\": \"Extra Random Trees\",\n",
      "          \"is_selected\": false,\n",
      "          \"num_of_trees\": [45, 489],\n",
      "          \"feature_sampling_statergy\": \"Square root and Logarithm\",\n",
      "          \"max_depth\": [12, 45],\n",
      "          \"min_samples_per_leaf\": [78, 56],\n",
      "          \"parallelism\": 3\n",
      "        },\n",
      "        \"neural_network\": {\n",
      "          \"model_name\": \"Neural Network\",\n",
      "          \"is_selected\": false,\n",
      "          \"hidden_layer_sizes\": [67, 89],\n",
      "          \"activation\": \"\",\n",
      "          \"alpha_value\": 0,\n",
      "          \"max_iterations\": 0,\n",
      "          \"convergence_tolerance\": 0,\n",
      "          \"early_stopping\": true,\n",
      "          \"solver\": \"ADAM\",\n",
      "          \"shuffle_data\": true,\n",
      "          \"initial_learning_rate\": 0,\n",
      "          \"automatic_batching\": true,\n",
      "          \"beta_1\": 0,\n",
      "          \"beta_2\": 0,\n",
      "          \"epsilon\": 0,\n",
      "          \"power_t\": 0,\n",
      "          \"momentum\": 0,\n",
      "          \"use_nesterov_momentum\": false\n",
      "        }\n",
      "      }\n",
      "    }\n",
      "  }\n",
      "  \n",
      "\n",
      "\n"
     ]
    }
   ],
   "source": [
    "## Parsing the json file\n",
    "from striprtf.striprtf import rtf_to_text\n",
    "with open(\"algoparams_from_ui.json.rtf\") as infile:\n",
    "    content = infile.read()\n",
    "    text = rtf_to_text(content)\n",
    "print(text)  "
   ]
  },
  {
   "cell_type": "code",
   "execution_count": 4,
   "id": "c66a1a18",
   "metadata": {},
   "outputs": [],
   "source": [
    "data= json.loads(text)"
   ]
  },
  {
   "cell_type": "markdown",
   "id": "ae366bef",
   "metadata": {},
   "source": [
    "# Data extracting and preprocessing"
   ]
  },
  {
   "cell_type": "code",
   "execution_count": 5,
   "id": "5029b57a",
   "metadata": {},
   "outputs": [],
   "source": [
    "df=pd.read_csv(\"iris.csv\")"
   ]
  },
  {
   "cell_type": "code",
   "execution_count": 6,
   "id": "1fdc0f71",
   "metadata": {},
   "outputs": [
    {
     "data": {
      "text/html": [
       "<div>\n",
       "<style scoped>\n",
       "    .dataframe tbody tr th:only-of-type {\n",
       "        vertical-align: middle;\n",
       "    }\n",
       "\n",
       "    .dataframe tbody tr th {\n",
       "        vertical-align: top;\n",
       "    }\n",
       "\n",
       "    .dataframe thead th {\n",
       "        text-align: right;\n",
       "    }\n",
       "</style>\n",
       "<table border=\"1\" class=\"dataframe\">\n",
       "  <thead>\n",
       "    <tr style=\"text-align: right;\">\n",
       "      <th></th>\n",
       "      <th>sepal_length</th>\n",
       "      <th>sepal_width</th>\n",
       "      <th>petal_length</th>\n",
       "      <th>petal_width</th>\n",
       "      <th>species</th>\n",
       "    </tr>\n",
       "  </thead>\n",
       "  <tbody>\n",
       "    <tr>\n",
       "      <th>0</th>\n",
       "      <td>5.1</td>\n",
       "      <td>3.5</td>\n",
       "      <td>1.4</td>\n",
       "      <td>0.2</td>\n",
       "      <td>Iris-setosa</td>\n",
       "    </tr>\n",
       "    <tr>\n",
       "      <th>1</th>\n",
       "      <td>4.9</td>\n",
       "      <td>3.0</td>\n",
       "      <td>1.4</td>\n",
       "      <td>0.2</td>\n",
       "      <td>Iris-setosa</td>\n",
       "    </tr>\n",
       "    <tr>\n",
       "      <th>2</th>\n",
       "      <td>4.7</td>\n",
       "      <td>3.2</td>\n",
       "      <td>1.3</td>\n",
       "      <td>0.2</td>\n",
       "      <td>Iris-setosa</td>\n",
       "    </tr>\n",
       "    <tr>\n",
       "      <th>3</th>\n",
       "      <td>4.6</td>\n",
       "      <td>3.1</td>\n",
       "      <td>1.5</td>\n",
       "      <td>0.2</td>\n",
       "      <td>Iris-setosa</td>\n",
       "    </tr>\n",
       "    <tr>\n",
       "      <th>4</th>\n",
       "      <td>5.0</td>\n",
       "      <td>3.6</td>\n",
       "      <td>1.4</td>\n",
       "      <td>0.2</td>\n",
       "      <td>Iris-setosa</td>\n",
       "    </tr>\n",
       "  </tbody>\n",
       "</table>\n",
       "</div>"
      ],
      "text/plain": [
       "   sepal_length  sepal_width  petal_length  petal_width      species\n",
       "0           5.1          3.5           1.4          0.2  Iris-setosa\n",
       "1           4.9          3.0           1.4          0.2  Iris-setosa\n",
       "2           4.7          3.2           1.3          0.2  Iris-setosa\n",
       "3           4.6          3.1           1.5          0.2  Iris-setosa\n",
       "4           5.0          3.6           1.4          0.2  Iris-setosa"
      ]
     },
     "execution_count": 6,
     "metadata": {},
     "output_type": "execute_result"
    }
   ],
   "source": [
    "df.head()"
   ]
  },
  {
   "cell_type": "code",
   "execution_count": 7,
   "id": "cdd91fea",
   "metadata": {},
   "outputs": [
    {
     "data": {
      "image/png": "[encoded data removed]",
      "text/plain": [
       "<Figure size 720x432 with 2 Axes>"
      ]
     },
     "metadata": {
      "needs_background": "light"
     },
     "output_type": "display_data"
    }
   ],
   "source": [
    "cor=df.corr()\n",
    "top_cor=cor.index\n",
    "plt.figure(figsize=(10,6))\n",
    "g=sns.heatmap(df[top_cor].corr(),annot=True,cmap='RdYlGn')"
   ]
  },
  {
   "cell_type": "code",
   "execution_count": 8,
   "id": "86b165d1",
   "metadata": {},
   "outputs": [
    {
     "data": {
      "image/png": "[encoded data removed]",
      "text/plain": [
       "<Figure size 432x288 with 1 Axes>"
      ]
     },
     "metadata": {},
     "output_type": "display_data"
    }
   ],
   "source": [
    "sns.set_style('whitegrid')\n",
    "sns.countplot(x='species',data=df)\n",
    "plt.show()"
   ]
  },
  {
   "cell_type": "code",
   "execution_count": 9,
   "id": "79083d7e",
   "metadata": {},
   "outputs": [
    {
     "data": {
      "text/plain": [
       "sepal_length    0\n",
       "sepal_width     0\n",
       "petal_length    0\n",
       "petal_width     0\n",
       "species         0\n",
       "dtype: int64"
      ]
     },
     "execution_count": 9,
     "metadata": {},
     "output_type": "execute_result"
    }
   ],
   "source": [
    "df.isnull().sum()"
   ]
  },
  {
   "cell_type": "code",
   "execution_count": 10,
   "id": "a9b3457a",
   "metadata": {},
   "outputs": [
    {
     "name": "stdout",
     "output_type": "stream",
     "text": [
      "<class 'pandas.core.frame.DataFrame'>\n",
      "RangeIndex: 150 entries, 0 to 149\n",
      "Data columns (total 5 columns):\n",
      " #   Column        Non-Null Count  Dtype  \n",
      "---  ------        --------------  -----  \n",
      " 0   sepal_length  150 non-null    float64\n",
      " 1   sepal_width   150 non-null    float64\n",
      " 2   petal_length  150 non-null    float64\n",
      " 3   petal_width   150 non-null    float64\n",
      " 4   species       150 non-null    object \n",
      "dtypes: float64(4), object(1)\n",
      "memory usage: 6.0+ KB\n"
     ]
    }
   ],
   "source": [
    "df.info()"
   ]
  },
  {
   "cell_type": "code",
   "execution_count": 11,
   "id": "7851ec70",
   "metadata": {},
   "outputs": [
    {
     "data": {
      "text/html": [
       "<div>\n",
       "<style scoped>\n",
       "    .dataframe tbody tr th:only-of-type {\n",
       "        vertical-align: middle;\n",
       "    }\n",
       "\n",
       "    .dataframe tbody tr th {\n",
       "        vertical-align: top;\n",
       "    }\n",
       "\n",
       "    .dataframe thead th {\n",
       "        text-align: right;\n",
       "    }\n",
       "</style>\n",
       "<table border=\"1\" class=\"dataframe\">\n",
       "  <thead>\n",
       "    <tr style=\"text-align: right;\">\n",
       "      <th></th>\n",
       "      <th>sepal_length</th>\n",
       "      <th>sepal_width</th>\n",
       "      <th>petal_length</th>\n",
       "      <th>petal_width</th>\n",
       "    </tr>\n",
       "  </thead>\n",
       "  <tbody>\n",
       "    <tr>\n",
       "      <th>count</th>\n",
       "      <td>150.000000</td>\n",
       "      <td>150.000000</td>\n",
       "      <td>150.000000</td>\n",
       "      <td>150.000000</td>\n",
       "    </tr>\n",
       "    <tr>\n",
       "      <th>mean</th>\n",
       "      <td>5.843333</td>\n",
       "      <td>3.054000</td>\n",
       "      <td>3.758667</td>\n",
       "      <td>1.198667</td>\n",
       "    </tr>\n",
       "    <tr>\n",
       "      <th>std</th>\n",
       "      <td>0.828066</td>\n",
       "      <td>0.433594</td>\n",
       "      <td>1.764420</td>\n",
       "      <td>0.763161</td>\n",
       "    </tr>\n",
       "    <tr>\n",
       "      <th>min</th>\n",
       "      <td>4.300000</td>\n",
       "      <td>2.000000</td>\n",
       "      <td>1.000000</td>\n",
       "      <td>0.100000</td>\n",
       "    </tr>\n",
       "    <tr>\n",
       "      <th>25%</th>\n",
       "      <td>5.100000</td>\n",
       "      <td>2.800000</td>\n",
       "      <td>1.600000</td>\n",
       "      <td>0.300000</td>\n",
       "    </tr>\n",
       "    <tr>\n",
       "      <th>50%</th>\n",
       "      <td>5.800000</td>\n",
       "      <td>3.000000</td>\n",
       "      <td>4.350000</td>\n",
       "      <td>1.300000</td>\n",
       "    </tr>\n",
       "    <tr>\n",
       "      <th>75%</th>\n",
       "      <td>6.400000</td>\n",
       "      <td>3.300000</td>\n",
       "      <td>5.100000</td>\n",
       "      <td>1.800000</td>\n",
       "    </tr>\n",
       "    <tr>\n",
       "      <th>max</th>\n",
       "      <td>7.900000</td>\n",
       "      <td>4.400000</td>\n",
       "      <td>6.900000</td>\n",
       "      <td>2.500000</td>\n",
       "    </tr>\n",
       "  </tbody>\n",
       "</table>\n",
       "</div>"
      ],
      "text/plain": [
       "       sepal_length  sepal_width  petal_length  petal_width\n",
       "count    150.000000   150.000000    150.000000   150.000000\n",
       "mean       5.843333     3.054000      3.758667     1.198667\n",
       "std        0.828066     0.433594      1.764420     0.763161\n",
       "min        4.300000     2.000000      1.000000     0.100000\n",
       "25%        5.100000     2.800000      1.600000     0.300000\n",
       "50%        5.800000     3.000000      4.350000     1.300000\n",
       "75%        6.400000     3.300000      5.100000     1.800000\n",
       "max        7.900000     4.400000      6.900000     2.500000"
      ]
     },
     "execution_count": 11,
     "metadata": {},
     "output_type": "execute_result"
    }
   ],
   "source": [
    "df.describe()"
   ]
  },
  {
   "cell_type": "code",
   "execution_count": 12,
   "id": "6b177972",
   "metadata": {},
   "outputs": [],
   "source": [
    "df = pd.get_dummies(df,columns=['species'],drop_first = True)"
   ]
  },
  {
   "cell_type": "markdown",
   "id": "a95146c3",
   "metadata": {},
   "source": [
    "## Reading json files"
   ]
  },
  {
   "cell_type": "code",
   "execution_count": 13,
   "id": "1a14c535",
   "metadata": {},
   "outputs": [
    {
     "name": "stdout",
     "output_type": "stream",
     "text": [
      "{'prediction_type': 'Regression', 'target': 'petal_width', 'type': 'regression', 'partitioning': True}\n"
     ]
    }
   ],
   "source": [
    "Target = data['design_state_data']['target']\n",
    "print(Target)"
   ]
  },
  {
   "cell_type": "code",
   "execution_count": 14,
   "id": "6d41e168",
   "metadata": {},
   "outputs": [
    {
     "name": "stdout",
     "output_type": "stream",
     "text": [
      "{'model_name': 'Random Forest Classifier', 'is_selected': False, 'min_trees': 10, 'max_trees': 30, 'feature_sampling_statergy': 'Default', 'min_depth': 20, 'max_depth': 30, 'min_samples_per_leaf_min_value': 5, 'min_samples_per_leaf_max_value': 50, 'parallelism': 0}\n",
      "{'model_name': 'Random Forest Regressor', 'is_selected': True, 'min_trees': 10, 'max_trees': 20, 'feature_sampling_statergy': 'Default', 'min_depth': 20, 'max_depth': 25, 'min_samples_per_leaf_min_value': 5, 'min_samples_per_leaf_max_value': 10, 'parallelism': 0}\n",
      "{'model_name': 'Gradient Boosted Trees', 'is_selected': False, 'num_of_BoostingStages': [67, 89], 'feature_sampling_statergy': 'Fixed number', 'learningRate': [], 'use_deviance': True, 'use_exponential': False, 'fixed_number': 22, 'min_subsample': 1, 'max_subsample': 2, 'min_stepsize': 0.1, 'max_stepsize': 0.5, 'min_iter': 20, 'max_iter': 40, 'min_depth': 5, 'max_depth': 7}\n",
      "{'model_name': 'Gradient Boosted Trees', 'is_selected': False, 'num_of_BoostingStages': [67, 89], 'feature_sampling_statergy': 'Fixed number', 'use_deviance': True, 'use_exponential': False, 'fixed_number': 22, 'min_subsample': 1, 'max_subsample': 2, 'min_stepsize': 0.1, 'max_stepsize': 0.5, 'min_iter': 20, 'max_iter': 40, 'min_depth': 5, 'max_depth': 7}\n",
      "{'model_name': 'LinearRegression', 'is_selected': False, 'parallelism': 2, 'min_iter': 30, 'max_iter': 50, 'min_regparam': 0.5, 'max_regparam': 0.8, 'min_elasticnet': 0.5, 'max_elasticnet': 0.8}\n",
      "{'model_name': 'LogisticRegression', 'is_selected': False, 'parallelism': 2, 'min_iter': 30, 'max_iter': 50, 'min_regparam': 0.5, 'max_regparam': 0.8, 'min_elasticnet': 0.5, 'max_elasticnet': 0.8}\n",
      "{'model_name': 'RidgeRegression', 'is_selected': False, 'regularization_term': 'Specify values to test', 'min_iter': 30, 'max_iter': 50, 'min_regparam': 0.5, 'max_regparam': 0.8}\n",
      "{'model_name': 'Lasso Regression', 'is_selected': False, 'regularization_term': 'Specify values to test', 'min_iter': 30, 'max_iter': 50, 'min_regparam': 0.5, 'max_regparam': 0.8}\n",
      "{'model_name': 'Lasso Regression', 'is_selected': False, 'regularization_term': 'Specify values to test', 'min_iter': 30, 'max_iter': 50, 'min_regparam': 0.5, 'max_regparam': 0.8, 'min_elasticnet': 0.5, 'max_elasticnet': 0.8}\n",
      "{'model_name': 'XG Boost', 'is_selected': False, 'use_gradient_boosted_tree': True, 'dart': True, 'tree_method': '', 'random_state': 0, 'max_num_of_trees': 0, 'early_stopping': True, 'early_stopping_rounds': 2, 'max_depth_of_tree': [56, 89], 'learningRate': [89, 76], 'l1_regularization': [77], 'l2_regularization': [78], 'gamma': [68], 'min_child_weight': [67], 'sub_sample': [67], 'col_sample_by_tree': [67], 'replace_missing_values': False, 'parallelism': 0}\n",
      "{'model_name': 'Decision Tree', 'is_selected': False, 'min_depth': 4, 'max_depth': 7, 'use_gini': False, 'use_entropy': True, 'min_samples_per_leaf': [12, 6], 'use_best': True, 'use_random': True}\n",
      "{'model_name': 'Decision Tree', 'is_selected': False, 'min_depth': 4, 'max_depth': 7, 'use_gini': False, 'use_entropy': True, 'min_samples_per_leaf': [12, 6], 'use_best': True, 'use_random': True}\n",
      "{'model_name': 'Support Vector Machine', 'is_selected': False, 'linear_kernel': True, 'rep_kernel': True, 'polynomial_kernel': True, 'sigmoid_kernel': True, 'c_value': [566, 79], 'auto': True, 'scale': True, 'custom_gamma_values': True, 'tolerance': 7, 'max_iterations': 7}\n",
      "{'model_name': 'Stochastic Gradient Descent', 'is_selected': False, 'use_logistics': True, 'use_modified_hubber_loss': False, 'max_iterations': False, 'tolerance': 56, 'use_l1_regularization': 'on', 'use_l2_regularization': 'on', 'use_elastic_net_regularization': True, 'alpha_value': [79, 56], 'parallelism': 1}\n",
      "{'model_name': 'KNN', 'is_selected': False, 'k_value': [78], 'distance_weighting': True, 'neighbour_finding_algorithm': 'Automatic', 'random_state': 0, 'p_value': 0}\n",
      "{'model_name': 'Extra Random Trees', 'is_selected': False, 'num_of_trees': [45, 489], 'feature_sampling_statergy': 'Square root and Logarithm', 'max_depth': [12, 45], 'min_samples_per_leaf': [78, 56], 'parallelism': 3}\n",
      "{'model_name': 'Neural Network', 'is_selected': False, 'hidden_layer_sizes': [67, 89], 'activation': '', 'alpha_value': 0, 'max_iterations': 0, 'convergence_tolerance': 0, 'early_stopping': True, 'solver': 'ADAM', 'shuffle_data': True, 'initial_learning_rate': 0, 'automatic_batching': True, 'beta_1': 0, 'beta_2': 0, 'epsilon': 0, 'power_t': 0, 'momentum': 0, 'use_nesterov_momentum': False}\n"
     ]
    }
   ],
   "source": [
    "## Models with their hypermeter\n",
    "for i in data['design_state_data']['algorithms']:\n",
    "    print(data['design_state_data']['algorithms'][i])"
   ]
  },
  {
   "cell_type": "code",
   "execution_count": 15,
   "id": "86b651b8",
   "metadata": {},
   "outputs": [
    {
     "name": "stdout",
     "output_type": "stream",
     "text": [
      "RandomForestClassifier\n",
      "RandomForestRegressor\n",
      "GBTClassifier\n",
      "GBTRegressor\n",
      "LinearRegression\n",
      "LogisticRegression\n",
      "RidgeRegression\n",
      "LassoRegression\n",
      "ElasticNetRegression\n",
      "xg_boost\n",
      "DecisionTreeRegressor\n",
      "DecisionTreeClassifier\n",
      "SVM\n",
      "SGD\n",
      "KNN\n",
      "extra_random_trees\n",
      "neural_network\n"
     ]
    }
   ],
   "source": [
    "## Models name\n",
    "for i in data['design_state_data']['algorithms']:\n",
    "    print(i)"
   ]
  },
  {
   "cell_type": "markdown",
   "id": "3312253e",
   "metadata": {},
   "source": [
    "# Splitting data into training and testing set"
   ]
  },
  {
   "cell_type": "code",
   "execution_count": 16,
   "id": "4dca6eac",
   "metadata": {},
   "outputs": [],
   "source": [
    "X=df.drop('petal_width',axis=1)\n",
    "y=df['petal_width']"
   ]
  },
  {
   "cell_type": "code",
   "execution_count": 17,
   "id": "7f5f96d0",
   "metadata": {},
   "outputs": [],
   "source": [
    "from sklearn.model_selection import train_test_split\n",
    "X_train, X_test, y_train, y_test = train_test_split(X,y, test_size=0.2, random_state=42)"
   ]
  },
  {
   "cell_type": "markdown",
   "id": "ee9e2f9b",
   "metadata": {},
   "source": [
    "# Building models"
   ]
  },
  {
   "cell_type": "code",
   "execution_count": 18,
   "id": "f5391820",
   "metadata": {},
   "outputs": [],
   "source": [
    "from sklearn.ensemble import RandomForestClassifier,RandomForestRegressor\n",
    "from sklearn.ensemble import GradientBoostingClassifier,GradientBoostingRegressor\n",
    "from sklearn.linear_model import LinearRegression,LogisticRegression\n",
    "from sklearn.linear_model import Ridge,Lasso,ElasticNet\n",
    "import xgboost\n",
    "from sklearn.tree import DecisionTreeClassifier,DecisionTreeRegressor\n",
    "from sklearn.svm import SVC,SVR\n",
    "from sklearn.linear_model import SGDClassifier\n",
    "from sklearn.neighbors import KNeighborsClassifier\n",
    "from sklearn.ensemble import ExtraTreesClassifier,ExtraTreesRegressor\n",
    "from sklearn.model_selection import GridSearchCV\n",
    "from sklearn.metrics import classification_report, confusion_matrix \n",
    "from sklearn.metrics import mean_squared_error,r2_score,mean_absolute_error\n",
    "from sklearn.model_selection import train_test_split "
   ]
  },
  {
   "cell_type": "code",
   "execution_count": 19,
   "id": "3174f4ee",
   "metadata": {},
   "outputs": [
    {
     "data": {
      "text/plain": [
       "RandomForestRegressor(max_depth=25, min_samples_leaf=10, n_estimators=20)"
      ]
     },
     "execution_count": 19,
     "metadata": {},
     "output_type": "execute_result"
    }
   ],
   "source": [
    "## Using RandomForestRegressor\n",
    "rfr=RandomForestRegressor(n_estimators = 20,min_samples_leaf = 10,max_depth=25)\n",
    "rfr.fit(X_train,y_train)"
   ]
  },
  {
   "cell_type": "code",
   "execution_count": 20,
   "id": "aef8c435",
   "metadata": {},
   "outputs": [
    {
     "name": "stdout",
     "output_type": "stream",
     "text": [
      "Mean Squared Error for Random_Forest_Regressor :  0.02606874347253137\n",
      "Root Mean Squared Error Random_Fores_tRegressor : 0.16145817871056073\n",
      "Mean Absolute Error for Random_Forest_Regressor :0.1395913002211012\n"
     ]
    }
   ],
   "source": [
    "y_pred = rfr.predict(X_test)\n",
    "mse = mean_squared_error(y_test,y_pred)\n",
    "rmse = mean_squared_error(y_test,y_pred,squared=False)\n",
    "mae = mean_absolute_error(y_test,y_pred)\n",
    "print(f\"Mean Squared Error for Random_Forest_Regressor :  {mse}\")\n",
    "print(f\"Root Mean Squared Error Random_Fores_tRegressor : {rmse}\")\n",
    "print(f\"Mean Absolute Error for Random_Forest_Regressor :{mae}\")"
   ]
  },
  {
   "cell_type": "code",
   "execution_count": 21,
   "id": "3421b619",
   "metadata": {},
   "outputs": [
    {
     "data": {
      "text/plain": [
       "LinearRegression()"
      ]
     },
     "execution_count": 21,
     "metadata": {},
     "output_type": "execute_result"
    }
   ],
   "source": [
    "#Using Linear Regression\n",
    "from sklearn.linear_model import LinearRegression\n",
    "lr = LinearRegression()\n",
    "lr.fit(X_train,y_train)"
   ]
  },
  {
   "cell_type": "code",
   "execution_count": 22,
   "id": "27aa1ba0",
   "metadata": {},
   "outputs": [
    {
     "name": "stdout",
     "output_type": "stream",
     "text": [
      "Mean Squared Error for Linear_Regression :  0.029340294418947133\n",
      "Root Mean Squared Error Linear_Regression : 0.17129008850177857\n",
      "Mean Absolute Error for Linear_Regression : 0.1325943679374639\n"
     ]
    }
   ],
   "source": [
    "y_pred = lr.predict(X_test)\n",
    "mse = mean_squared_error(y_test,y_pred)\n",
    "rmse = mean_squared_error(y_test,y_pred,squared=False)\n",
    "mae = mean_absolute_error(y_test,y_pred)\n",
    "print(f\"Mean Squared Error for Linear_Regression :  {mse}\")\n",
    "print(f\"Root Mean Squared Error Linear_Regression : {rmse}\")\n",
    "print(f\"Mean Absolute Error for Linear_Regression : {mae}\")"
   ]
  },
  {
   "cell_type": "code",
   "execution_count": 23,
   "id": "28e3f35d",
   "metadata": {},
   "outputs": [
    {
     "data": {
      "text/plain": [
       "GradientBoostingRegressor(max_depth=7, n_estimators=89)"
      ]
     },
     "execution_count": 23,
     "metadata": {},
     "output_type": "execute_result"
    }
   ],
   "source": [
    "###Using Gradient Boosting Regressor\n",
    "gbtr = GradientBoostingRegressor(n_estimators= 89,max_depth=7)\n",
    "gbtr.fit(X_train,y_train)"
   ]
  },
  {
   "cell_type": "code",
   "execution_count": 24,
   "id": "2b2093da",
   "metadata": {},
   "outputs": [
    {
     "name": "stdout",
     "output_type": "stream",
     "text": [
      "Mean Squared Error for Gradient_Boosting_Regressor :  0.04015674994861551\n",
      "Root Mean Squared Error Gradient_Boosting_Regressor : 0.20039149170714687\n",
      "Mean Absolute Error for Gradient_Boosting_Regressor : 0.16382716969260394\n"
     ]
    }
   ],
   "source": [
    "y_pred = gbtr.predict(X_test)\n",
    "mse = mean_squared_error(y_test,y_pred)\n",
    "rmse = mean_squared_error(y_test,y_pred,squared=False)\n",
    "mae = mean_absolute_error(y_test,y_pred)\n",
    "print(f\"Mean Squared Error for Gradient_Boosting_Regressor :  {mse}\")\n",
    "print(f\"Root Mean Squared Error Gradient_Boosting_Regressor : {rmse}\")\n",
    "print(f\"Mean Absolute Error for Gradient_Boosting_Regressor : {mae}\")"
   ]
  },
  {
   "cell_type": "code",
   "execution_count": 25,
   "id": "28e54b47",
   "metadata": {},
   "outputs": [
    {
     "data": {
      "text/plain": [
       "Lasso(max_iter=50)"
      ]
     },
     "execution_count": 25,
     "metadata": {},
     "output_type": "execute_result"
    }
   ],
   "source": [
    "## Lasso regression\n",
    "lsr = Lasso(max_iter = 50)\n",
    "lsr.fit(X_train,y_train)"
   ]
  },
  {
   "cell_type": "code",
   "execution_count": 26,
   "id": "cd96f5b7",
   "metadata": {},
   "outputs": [
    {
     "name": "stdout",
     "output_type": "stream",
     "text": [
      "Mean Squared Error for Lasso Regression : 0.4267745876578168\n",
      "Root Mean Squared Error Lasso Regression : 0.653279869319281\n",
      "Mean Absolute Error for Lasso Regression :0.5740068103493747\n"
     ]
    }
   ],
   "source": [
    "y_pred = lsr.predict(X_test)\n",
    "mse = mean_squared_error(y_test,y_pred)\n",
    "rmse = mean_squared_error(y_test,y_pred,squared=False)\n",
    "mae = mean_absolute_error(y_test,y_pred)\n",
    "print(f\"Mean Squared Error for Lasso Regression : {mse}\")\n",
    "print(f\"Root Mean Squared Error Lasso Regression : {rmse}\")\n",
    "print(f\"Mean Absolute Error for Lasso Regression :{mae}\")"
   ]
  },
  {
   "cell_type": "code",
   "execution_count": 27,
   "id": "557c45dc",
   "metadata": {},
   "outputs": [
    {
     "data": {
      "text/plain": [
       "Ridge(max_iter=50)"
      ]
     },
     "execution_count": 27,
     "metadata": {},
     "output_type": "execute_result"
    }
   ],
   "source": [
    "## Ridge regression\n",
    "rdg = Ridge(max_iter = 50)\n",
    "rdg.fit(X_train,y_train)"
   ]
  },
  {
   "cell_type": "code",
   "execution_count": 28,
   "id": "1778ea96",
   "metadata": {},
   "outputs": [
    {
     "name": "stdout",
     "output_type": "stream",
     "text": [
      "Mean Squared Error for Ridge Regression : 0.0333882003269742\n",
      "Root Mean Squared Error Ridge Regression : 0.18272438350415687\n",
      "Mean Absolute Error for Ridge Regression :0.13722699057951743\n"
     ]
    }
   ],
   "source": [
    "y_pred = rdg.predict(X_test)\n",
    "mse = mean_squared_error(y_test,y_pred)\n",
    "rmse = mean_squared_error(y_test,y_pred,squared=False)\n",
    "mae = mean_absolute_error(y_test,y_pred)\n",
    "print(f\"Mean Squared Error for Ridge Regression : {mse}\")\n",
    "print(f\"Root Mean Squared Error Ridge Regression : {rmse}\")\n",
    "print(f\"Mean Absolute Error for Ridge Regression :{mae}\")"
   ]
  },
  {
   "cell_type": "code",
   "execution_count": 29,
   "id": "c54b0225",
   "metadata": {},
   "outputs": [
    {
     "data": {
      "text/plain": [
       "XGBRegressor(base_score=0.5, booster='gbtree', callbacks=None,\n",
       "             colsample_bylevel=1, colsample_bynode=1, colsample_bytree=1,\n",
       "             early_stopping_rounds=None, enable_categorical=False,\n",
       "             eval_metric=None, feature_types=None, gamma=0, gpu_id=-1,\n",
       "             grow_policy='depthwise', importance_type=None,\n",
       "             interaction_constraints='', learning_rate=0.300000012, max_bin=256,\n",
       "             max_cat_threshold=64, max_cat_to_onehot=4, max_delta_step=0,\n",
       "             max_depth=6, max_leaves=0, min_child_weight=1, missing=nan,\n",
       "             monotone_constraints='()', n_estimators=100, n_jobs=0,\n",
       "             num_parallel_tree=1, predictor='auto', random_state=0, ...)"
      ]
     },
     "execution_count": 29,
     "metadata": {},
     "output_type": "execute_result"
    }
   ],
   "source": [
    "#Using Xgboost Regression\n",
    "import xgboost as xg\n",
    "xgb = xg.XGBRegressor()\n",
    "xgb.fit(X_train,y_train)"
   ]
  },
  {
   "cell_type": "code",
   "execution_count": 30,
   "id": "ae3c5cd5",
   "metadata": {},
   "outputs": [
    {
     "name": "stdout",
     "output_type": "stream",
     "text": [
      "Mean Squared Error for Xgboost_Regression : 0.04094114414103808\n",
      "Root Mean Squared Error Xgboost_Regression : 0.20233918093399034\n",
      "Mean Absolute Error for Xgboost_Regression :0.1672906299432119\n"
     ]
    }
   ],
   "source": [
    "y_pred = xgb.predict(X_test)\n",
    "mse = mean_squared_error(y_test,y_pred)\n",
    "rmse = mean_squared_error(y_test,y_pred,squared=False)\n",
    "mae = mean_absolute_error(y_test,y_pred)\n",
    "print(f\"Mean Squared Error for Xgboost_Regression : {mse}\")\n",
    "print(f\"Root Mean Squared Error Xgboost_Regression : {rmse}\")\n",
    "print(f\"Mean Absolute Error for Xgboost_Regression :{mae}\")"
   ]
  },
  {
   "cell_type": "code",
   "execution_count": 31,
   "id": "10a7ed3c",
   "metadata": {},
   "outputs": [
    {
     "data": {
      "text/plain": [
       "DecisionTreeRegressor(min_samples_leaf=12)"
      ]
     },
     "execution_count": 31,
     "metadata": {},
     "output_type": "execute_result"
    }
   ],
   "source": [
    "#Using Decision Tree regression\n",
    "from sklearn.tree import DecisionTreeRegressor\n",
    "dtr = DecisionTreeRegressor(min_samples_leaf = 12)\n",
    "dtr.fit(X_train,y_train)"
   ]
  },
  {
   "cell_type": "code",
   "execution_count": 32,
   "id": "d453b9b0",
   "metadata": {},
   "outputs": [
    {
     "name": "stdout",
     "output_type": "stream",
     "text": [
      "Mean Squared Error for  Decision_Tree_Regressor : 0.030028242965825378\n",
      "Root Mean Squared Error  Decision_Tree_Regressor : 0.17328659199668445\n",
      "Mean Absolute Error for  Decision_Tree_Regressor : 0.13016605616605614\n"
     ]
    }
   ],
   "source": [
    "y_pred = dtr.predict(X_test)\n",
    "mse = mean_squared_error(y_test,y_pred)\n",
    "rmse = mean_squared_error(y_test,y_pred,squared=False)\n",
    "mae = mean_absolute_error(y_test,y_pred)\n",
    "print(f\"Mean Squared Error for  Decision_Tree_Regressor : {mse}\")\n",
    "print(f\"Root Mean Squared Error  Decision_Tree_Regressor : {rmse}\")\n",
    "print(f\"Mean Absolute Error for  Decision_Tree_Regressor : {mae}\")"
   ]
  },
  {
   "cell_type": "code",
   "execution_count": 33,
   "id": "5a46aaf0",
   "metadata": {},
   "outputs": [
    {
     "name": "stderr",
     "output_type": "stream",
     "text": [
      "C:\\Users\\91789\\anaconda3\\lib\\site-packages\\sklearn\\svm\\_base.py:284: ConvergenceWarning: Solver terminated early (max_iter=7).  Consider pre-processing your data with StandardScaler or MinMaxScaler.\n",
      "  warnings.warn(\n"
     ]
    },
    {
     "data": {
      "text/plain": [
       "SVR(gamma=7, max_iter=7)"
      ]
     },
     "execution_count": 33,
     "metadata": {},
     "output_type": "execute_result"
    }
   ],
   "source": [
    "#Using SVR Regression\n",
    "svr = SVR(kernel = 'rbf',gamma = 7,max_iter = 7)\n",
    "svr.fit(X_train,y_train)"
   ]
  },
  {
   "cell_type": "code",
   "execution_count": 34,
   "id": "798779f3",
   "metadata": {},
   "outputs": [
    {
     "name": "stdout",
     "output_type": "stream",
     "text": [
      "Mean Squared Error for SVR Regression : 0.030028242965825378\n",
      "Root Mean Squared Error SVR Regression : 0.17328659199668445\n",
      "Mean Absolute Error for SVR Regressionr : 0.13016605616605614\n"
     ]
    }
   ],
   "source": [
    "pred = svr.predict(X_test)\n",
    "mse = mean_squared_error(y_test,y_pred)\n",
    "rmse = mean_squared_error(y_test,y_pred,squared=False)\n",
    "mae = mean_absolute_error(y_test,y_pred)\n",
    "print(f\"Mean Squared Error for SVR Regression : {mse}\")\n",
    "print(f\"Root Mean Squared Error SVR Regression : {rmse}\")\n",
    "print(f\"Mean Absolute Error for SVR Regressionr : {mae}\")"
   ]
  },
  {
   "cell_type": "code",
   "execution_count": null,
   "id": "16b9b6dc",
   "metadata": {},
   "outputs": [],
   "source": []
  }
 ],
 "metadata": {
  "kernelspec": {
   "display_name": "Python 3 (ipykernel)",
   "language": "python",
   "name": "python3"
  },
  "language_info": {
   "codemirror_mode": {
    "name": "ipython",
    "version": 3
   },
   "file_extension": ".py",
   "mimetype": "text/x-python",
   "name": "python",
   "nbconvert_exporter": "python",
   "pygments_lexer": "ipython3",
   "version": "3.9.12"
  }
 },
 "nbformat": 4,
 "nbformat_minor": 5
}
